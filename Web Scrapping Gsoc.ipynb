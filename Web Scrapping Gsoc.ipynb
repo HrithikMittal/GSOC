{
 "cells": [
  {
   "cell_type": "code",
   "execution_count": 1,
   "metadata": {},
   "outputs": [],
   "source": [
    "import httplib2\n",
    "import requests \n",
    "from bs4 import BeautifulSoup, SoupStrainer\n",
    "\n",
    "http = httplib2.Http()\n",
    "status, response = http.request('https://summerofcode.withgoogle.com/archive/2018/organizations/')\n"
   ]
  },
  {
   "cell_type": "code",
   "execution_count": 2,
   "metadata": {},
   "outputs": [
    {
     "name": "stdout",
     "output_type": "stream",
     "text": [
      "16\n"
     ]
    }
   ],
   "source": [
    "a=[]\n",
    "b=[]\n",
    "x = 0\n",
    "for link in BeautifulSoup(response,'html.parser', parse_only=SoupStrainer('a')):\n",
    "    if link.has_attr('href'):\n",
    "        a.append(link['href'])\n",
    "        if x >=3 and x<= 214:\n",
    "                                                                            #             print(((a[x]).split('/'))[4])\n",
    "            b.append(((a[x]).split('/'))[4]);\n",
    "        x = x+1\n",
    "                                                                            #         print (link['href'])\n",
    "print(len(b[1]))"
   ]
  },
  {
   "cell_type": "code",
   "execution_count": 4,
   "metadata": {},
   "outputs": [
    {
     "name": "stdout",
     "output_type": "stream",
     "text": [
      "Enter your organization number 5685665089978368\n",
      "YES\n",
      "3DTK\n",
      "\n",
      "\t\t\t\thttp://threedtk.de\n",
      "\t\t\t\n",
      "The 3D Toolkit provides algorithms and methods to process 3D point clouds\n",
      "[<li class=\"organization__tag organization__tag--technology\">c/c++</li>, <li class=\"organization__tag organization__tag--technology\"> cmake</li>, <li class=\"organization__tag organization__tag--technology\">opencv</li>, <li class=\"organization__tag organization__tag--technology\">ros</li>, <li class=\"organization__tag organization__tag--technology\">boost</li>]\n"
     ]
    }
   ],
   "source": [
    "x = int(input('Enter your organization number '))\n",
    "i = 0 \n",
    "for i in range(len(b)):\n",
    "    if(x == int(b[i])):\n",
    "        print('YES')\n",
    "        URL = \"https://summerofcode.withgoogle.com/archive/2018/organizations/\" + str(x)+\"/\"\n",
    "        r = requests.get(URL) \n",
    "        soup = BeautifulSoup(r.text, 'html5lib') \n",
    "        nameOfOrganization = soup.find('h3',class_= \"banner__title\")\n",
    "        nameOfOrganization = nameOfOrganization.text\n",
    "        print(nameOfOrganization)\n",
    "\n",
    "        linkOfOrganization = soup.find('a',class_= \"org__link\")\n",
    "        linkOfOrganization = linkOfOrganization.text\n",
    "        print(linkOfOrganization)\n",
    "\n",
    "        descOfOrganization = soup.find('h4',class_= \"org__tagline\")\n",
    "        descOfOrganization = descOfOrganization.text\n",
    "        print(descOfOrganization)\n",
    "\n",
    "        techOfOrganization = soup.findAll('li',class_= \"organization__tag--technology\")\n",
    "        # techOfOrganization = techOfOrganization.text\n",
    "        print(techOfOrganization)\n"
   ]
  },
  {
   "cell_type": "code",
   "execution_count": 5,
   "metadata": {},
   "outputs": [],
   "source": [
    "# # import urllib2\n",
    "# from bs4 import BeautifulSoup, SoupStrainer\n",
    "\n",
    "# request = urllib.request(\"http://www.gpsbasecamp.com/national-parks\")\n",
    "# response = urllib.urlopen(request)\n",
    "# soup = BeautifulSoup.BeautifulSoup(response)\n",
    "# for a in soup.findAll('a'):\n",
    "#   if 'national-park' in a['href']:\n",
    "#     print( 'found a url with national-park in the link')"
   ]
  },
  {
   "cell_type": "code",
   "execution_count": null,
   "metadata": {},
   "outputs": [],
   "source": []
  }
 ],
 "metadata": {
  "kernelspec": {
   "display_name": "Python 3",
   "language": "python",
   "name": "python3"
  },
  "language_info": {
   "codemirror_mode": {
    "name": "ipython",
    "version": 3
   },
   "file_extension": ".py",
   "mimetype": "text/x-python",
   "name": "python",
   "nbconvert_exporter": "python",
   "pygments_lexer": "ipython3",
   "version": "3.7.1"
  }
 },
 "nbformat": 4,
 "nbformat_minor": 2
}
