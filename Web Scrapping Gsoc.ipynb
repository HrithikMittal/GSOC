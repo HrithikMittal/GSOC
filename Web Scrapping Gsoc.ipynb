{
 "cells": [
  {
   "cell_type": "code",
   "execution_count": 37,
   "metadata": {},
   "outputs": [],
   "source": [
    "import httplib2\n",
    "import requests \n",
    "import re\n",
    "from bs4 import BeautifulSoup, SoupStrainer\n",
    "\n",
    "http = httplib2.Http()\n",
    "status, response = http.request('https://summerofcode.withgoogle.com/archive/2018/organizations/')\n"
   ]
  },
  {
   "cell_type": "code",
   "execution_count": 39,
   "metadata": {},
   "outputs": [
    {
     "name": "stdout",
     "output_type": "stream",
     "text": [
      "212\n"
     ]
    }
   ],
   "source": [
    "a=[]\n",
    "b=[]\n",
    "x = 0\n",
    "for link in BeautifulSoup(response,'html.parser', parse_only=SoupStrainer('a')):\n",
    "    if link.has_attr('href'):\n",
    "        a.append(link['href'])\n",
    "        if x >=3 and x<= 214:\n",
    "                                                                            #             print(((a[x]).split('/'))[4])\n",
    "            b.append(((a[x]).split('/'))[4])\n",
    "        x = x+1\n",
    "                                                                            #         print (link['href'])\n",
    "print(len(b))"
   ]
  },
  {
   "cell_type": "code",
   "execution_count": 35,
   "metadata": {},
   "outputs": [
    {
     "name": "stdout",
     "output_type": "stream",
     "text": [
      "Enter your organization number 5713309579870208\n",
      "YES\n",
      "['BeagleBoard.org Foundation', ' https://beagleboard.org ', 'Open hardware and software for physical computing', ',linux,gcc,real-time,physical,computing,iot,']\n"
     ]
    }
   ],
   "source": [
    "import re\n",
    "x = int(input('Enter your organization number '))\n",
    "i = 0 \n",
    "c=[]\n",
    "for i in range(len(b)):\n",
    "    if(x == int(b[i])):\n",
    "        URL = \"https://summerofcode.withgoogle.com/archive/2018/organizations/\" + str(x)+\"/\"\n",
    "        r = requests.get(URL) \n",
    "        soup = BeautifulSoup(r.text, 'html5lib') \n",
    "        \n",
    "        nameOfOrganization = soup.find('h3',class_= \"banner__title\")\n",
    "        nameOfOrganization = nameOfOrganization.text\n",
    "        nameOfOrganization  = re.sub(\"\\s+\",' ', nameOfOrganization)\n",
    "        c.append(nameOfOrganization)\n",
    "        \n",
    "        linkOfOrganization = soup.find('a',class_= \"org__link\")\n",
    "        linkOfOrganization = linkOfOrganization.text\n",
    "        linkOfOrganization = re.sub(\"\\s+\",' ',linkOfOrganization)\n",
    "        c.append(linkOfOrganization)\n",
    "\n",
    "        descOfOrganization = soup.find('h4',class_= \"org__tagline\")\n",
    "        descOfOrganization = descOfOrganization.text\n",
    "        descOfOrganization = re.sub(\"\\s+\",' ',descOfOrganization)\n",
    "        c.append(descOfOrganization)\n",
    "\n",
    "        techOfOrganization = soup.find('ul',class_= \"org__tag-container\")\n",
    "        techOfOrganization = techOfOrganization.text\n",
    "        techOfOrganization = re.sub(\"\\s+\",',',techOfOrganization)\n",
    "        c.append(techOfOrganization)\n",
    "\n",
    "print(c)"
   ]
  },
  {
   "cell_type": "code",
   "execution_count": 44,
   "metadata": {},
   "outputs": [],
   "source": [
    "import httplib2\n",
    "import requests \n",
    "import re\n",
    "from bs4 import BeautifulSoup, SoupStrainer\n",
    "\n",
    "def predict(orgno):\n",
    "        print('Hello Welcome to My Kingdom')\n",
    "        http = httplib2.Http()\n",
    "        status, response = http.request('https://summerofcode.withgoogle.com/archive/2018/organizations/')\n",
    "        print('Hello Welcome to My Kingdom')\n",
    "        a=[]\n",
    "        b=[]\n",
    "        x = 0\n",
    "        for link in BeautifulSoup(response,'html.parser', parse_only=SoupStrainer('a')):\n",
    "            if link.has_attr('href'):\n",
    "                a.append(link['href'])\n",
    "                if x >=3 and x<= 214:\n",
    "                                                                            #             print(((a[x]).split('/'))[4])\n",
    "                    b.append(((a[x]).split('/'))[4])\n",
    "                x = x+1\n",
    "                                                                            #         print (link['href'])\n",
    "        print(len(b))\n",
    "\n",
    "        x = int(orgno)\n",
    "        i = 0 \n",
    "        c=[]\n",
    "        for i in range(len(b)):\n",
    "                if(x == int(b[i])):\n",
    "                        URL = \"https://summerofcode.withgoogle.com/archive/2018/organizations/\" + str(x)+\"/\"\n",
    "                        r = requests.get(URL) \n",
    "                        soup = BeautifulSoup(r.text, 'html5lib') \n",
    "\n",
    "                        nameOfOrganization = soup.find('h3',class_= \"banner__title\")\n",
    "                        nameOfOrganization = nameOfOrganization.text\n",
    "                        nameOfOrganization  = re.sub(\"\\s+\",' ', nameOfOrganization)\n",
    "                        c.append(nameOfOrganization)\n",
    "\n",
    "                        linkOfOrganization = soup.find('a',class_= \"org__link\")\n",
    "                        linkOfOrganization = linkOfOrganization.text\n",
    "                        linkOfOrganization = re.sub(\"\\s+\",' ',linkOfOrganization)\n",
    "                        c.append(linkOfOrganization)\n",
    "\n",
    "                        descOfOrganization = soup.find('h4',class_= \"org__tagline\")\n",
    "                        descOfOrganization = descOfOrganization.text\n",
    "                        descOfOrganization = re.sub(\"\\s+\",' ',descOfOrganization)\n",
    "                        c.append(descOfOrganization)\n",
    "\n",
    "                        techOfOrganization = soup.find('ul',class_= \"org__tag-container\")\n",
    "                        techOfOrganization = techOfOrganization.text\n",
    "                        techOfOrganization = re.sub(\"\\s+\",',',techOfOrganization)\n",
    "                        c.append(techOfOrganization)\n",
    "\n",
    "        print(c)\n",
    "        return c"
   ]
  },
  {
   "cell_type": "code",
   "execution_count": 45,
   "metadata": {},
   "outputs": [
    {
     "name": "stdout",
     "output_type": "stream",
     "text": [
      "Hello Welcome to My Kingdom\n",
      "Hello Welcome to My Kingdom\n",
      "212\n",
      "['BeagleBoard.org Foundation', ' https://beagleboard.org ', 'Open hardware and software for physical computing', ',linux,gcc,real-time,physical,computing,iot,']\n"
     ]
    },
    {
     "data": {
      "text/plain": [
       "['BeagleBoard.org Foundation',\n",
       " ' https://beagleboard.org ',\n",
       " 'Open hardware and software for physical computing',\n",
       " ',linux,gcc,real-time,physical,computing,iot,']"
      ]
     },
     "execution_count": 45,
     "metadata": {},
     "output_type": "execute_result"
    }
   ],
   "source": [
    "predict(5713309579870208)"
   ]
  },
  {
   "cell_type": "code",
   "execution_count": null,
   "metadata": {},
   "outputs": [],
   "source": []
  },
  {
   "cell_type": "code",
   "execution_count": 5,
   "metadata": {},
   "outputs": [],
   "source": [
    "# # import urllib2\n",
    "# from bs4 import BeautifulSoup, SoupStrainer\n",
    "\n",
    "# request = urllib.request(\"http://www.gpsbasecamp.com/national-parks\")\n",
    "# response = urllib.urlopen(request)\n",
    "# soup = BeautifulSoup.BeautifulSoup(response)\n",
    "# for a in soup.findAll('a'):\n",
    "#   if 'national-park' in a['href']:\n",
    "#     print( 'found a url with national-park in the link')"
   ]
  }
 ],
 "metadata": {
  "kernelspec": {
   "display_name": "Python 3",
   "language": "python",
   "name": "python3"
  },
  "language_info": {
   "codemirror_mode": {
    "name": "ipython",
    "version": 3
   },
   "file_extension": ".py",
   "mimetype": "text/x-python",
   "name": "python",
   "nbconvert_exporter": "python",
   "pygments_lexer": "ipython3",
   "version": "3.7.1"
  }
 },
 "nbformat": 4,
 "nbformat_minor": 2
}
